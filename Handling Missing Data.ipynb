{
 "cells": [
  {
   "cell_type": "markdown",
   "metadata": {},
   "source": [
    "# Handling Missing Data\n",
    "\n",
    "Will Badart <badart_william@bah.com>\n",
    "\n",
    "created: **SEP 2018**\n",
    "\n",
    "This notebook is an explanation of different techniques for handling missing data (particularly, large swaths of missing data). We will compare how each technique affects models' performance. I'll be using [this][SO] Stack Overflow post as an outline for the different techniques we'll explore.\n",
    "\n",
    "[SO]: https://stackoverflow.com/a/35684975/4025659"
   ]
  },
  {
   "cell_type": "markdown",
   "metadata": {},
   "source": [
    "## The Dataset\n",
    "\n",
    "I'll be using the [breast cancer][dataset] dataset from `sklearn` as a base, and performing a (reverse?) pre-processing step of removing the values from a random sampling of cells to simulate the problem of missing data.\n",
    "\n",
    "[dataset]: http://scikit-learn.org/stable/modules/generated/sklearn.datasets.load_breast_cancer.html#sklearn.datasets.load_breast_cancer"
   ]
  },
  {
   "cell_type": "code",
   "execution_count": 23,
   "metadata": {},
   "outputs": [],
   "source": [
    "import numpy as np\n",
    "\n",
    "from random import (\n",
    "    choices, random, randint, seed as seed_py)\n",
    "from sklearn.datasets import load_breast_cancer\n",
    "\n",
    "RANDOM_STATE = 0xdecafbad\n",
    "PROB_MISSING = 0.9\n",
    "\n",
    "seed_py(RANDOM_STATE)\n",
    "\n",
    "def should_i_do_it():\n",
    "    return random() < PROB_MISSING\n",
    "\n",
    "def stomp_indexes(x):\n",
    "    options = list(range(len(x)))\n",
    "    return choices(options,\n",
    "                   # See NOTE below\n",
    "                   weights=[6, 3, 1] * 10,\n",
    "                   k=randint(0, len(x)))\n",
    "\n",
    "X, y = load_breast_cancer(return_X_y=True)\n",
    "for x in X:\n",
    "    if should_i_do_it():\n",
    "        targets = stomp_indexes(x)\n",
    "        x[targets] = np.nan"
   ]
  },
  {
   "cell_type": "markdown",
   "metadata": {},
   "source": [
    "**NOTE:** The weights here are a cycle of 30 values which alternate between `6`, `3`, and `1`. The acheived effect is that 10 of the features are missing, on average, more than 20% of the time, 10 of the features 15-20% of the time, and the remaining 10 less than 10% of the time.\n",
    "\n",
    "This creates a distinction between \"good\" features (with fewer missing values) and bad ones."
   ]
  },
  {
   "cell_type": "markdown",
   "metadata": {},
   "source": [
    "## Assessing the Damage\n",
    "\n",
    "Below, I note a few summary statistics to give an idea of the distribution of missing values.\n",
    "\n",
    "First, we note the proportion of values which have been squashed."
   ]
  },
  {
   "cell_type": "code",
   "execution_count": 49,
   "metadata": {},
   "outputs": [
    {
     "data": {
      "text/plain": [
       "<matplotlib.axes._subplots.AxesSubplot at 0x1a17b776d8>"
      ]
     },
     "execution_count": 49,
     "metadata": {},
     "output_type": "execute_result"
    },
    {
     "data": {
      "image/png": "[encoded data removed]",
      "text/plain": [
       "<Figure size 432x288 with 1 Axes>"
      ]
     },
     "metadata": {},
     "output_type": "display_data"
    }
   ],
   "source": [
    "import matplotlib.pyplot as plt\n",
    "\n",
    "def proportion_na(col):\n",
    "    return sum(np.isnan(col)) / len(col)\n",
    "\n",
    "proportions = [proportion_na(col) for col in X.T]\n",
    "ax = plt.gca()\n",
    "ax.bar(range(len(proportions)), proportions)\n",
    "ax.set_ylim([0, 1])\n",
    "ax"
   ]
  },
  {
   "cell_type": "markdown",
   "metadata": {},
   "source": [
    "Please review the above proportions and adjust `PROB_MISSING` and the `weights` keyword argument to `choices` to your preference.\n",
    "\n",
    "Below is the proportion of data objects with no missing values at all:"
   ]
  },
  {
   "cell_type": "code",
   "execution_count": 29,
   "metadata": {},
   "outputs": [
    {
     "data": {
      "text/plain": [
       "0.14411247803163443"
      ]
     },
     "execution_count": 29,
     "metadata": {},
     "output_type": "execute_result"
    }
   ],
   "source": [
    "len([x for x in X if not any(np.isnan(x))]) / len(X)"
   ]
  },
  {
   "cell_type": "code",
   "execution_count": null,
   "metadata": {},
   "outputs": [],
   "source": []
  }
 ],
 "metadata": {
  "kernelspec": {
   "display_name": "Python 3",
   "language": "python",
   "name": "python3"
  },
  "language_info": {
   "codemirror_mode": {
    "name": "ipython",
    "version": 3
   },
   "file_extension": ".py",
   "mimetype": "text/x-python",
   "name": "python",
   "nbconvert_exporter": "python",
   "pygments_lexer": "ipython3",
   "version": "3.6.5"
  }
 },
 "nbformat": 4,
 "nbformat_minor": 2
}
